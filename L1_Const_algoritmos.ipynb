{
  "nbformat": 4,
  "nbformat_minor": 0,
  "metadata": {
    "colab": {
      "name": "L1_Const_algoritmos.ipynb",
      "provenance": [],
      "authorship_tag": "ABX9TyNIMf1akNeu6PZ+pvmBIASf",
      "include_colab_link": true
    },
    "kernelspec": {
      "name": "python3",
      "display_name": "Python 3"
    }
  },
  "cells": [
    {
      "cell_type": "markdown",
      "metadata": {
        "id": "view-in-github",
        "colab_type": "text"
      },
      "source": [
        "<a href=\"https://colab.research.google.com/github/admaraia/newton-algo-2020/blob/main/L1_Const_algoritmos.ipynb\" target=\"_parent\"><img src=\"https://colab.research.google.com/assets/colab-badge.svg\" alt=\"Open In Colab\"/></a>"
      ]
    },
    {
      "cell_type": "markdown",
      "metadata": {
        "id": "yrNxbuvNClfN"
      },
      "source": [
        "1 - Faça um algoritmo que receba um número, calcule e imprima o seu quadrado."
      ]
    },
    {
      "cell_type": "code",
      "metadata": {
        "id": "hRiBDEA1pFEC",
        "outputId": "81dafe40-e0b1-43a1-bf70-8a68a2cde298",
        "colab": {
          "base_uri": "https://localhost:8080/"
        }
      },
      "source": [
        "import numpy as np\n",
        "\n",
        "A=float(input(\"Digite um número\"))\n",
        "B=A**2\n",
        "print(B)"
      ],
      "execution_count": null,
      "outputs": [
        {
          "output_type": "stream",
          "text": [
            "Digite um número2\n",
            "4.0\n"
          ],
          "name": "stdout"
        }
      ]
    },
    {
      "cell_type": "markdown",
      "metadata": {
        "id": "IgpxHBkCGUAB"
      },
      "source": [
        "2. Faça um algoritmo que receba a quantidade e o preço de custo de determinado produto. Imprima o valor de custo total deste item."
      ]
    },
    {
      "cell_type": "code",
      "metadata": {
        "id": "TytfcRbEpIQM",
        "outputId": "f7ebdfa3-3478-4210-be0f-5114f34815a4",
        "colab": {
          "base_uri": "https://localhost:8080/"
        }
      },
      "source": [
        "A=int(input(\"Digite a quantidade do produto vvvvvv ==>  \"))\n",
        "B=float(input(\"Digite o valor unitário do produto vvvvvv ==>  \"))\n",
        "C= A*B\n",
        "print('O custo do estoque deste item é R${0}'.format(C))"
      ],
      "execution_count": null,
      "outputs": [
        {
          "output_type": "stream",
          "text": [
            "Digite a quantidade do produto vvvvvv ==>  23\n",
            "Digite o valor unitário do produto vvvvvv ==>  2\n",
            "O custo do estoque deste item é R$46.0\n"
          ],
          "name": "stdout"
        }
      ]
    },
    {
      "cell_type": "markdown",
      "metadata": {
        "id": "hONfrTU5IKuG"
      },
      "source": [
        "3. Faça um algoritmo que leia três notas de um aluno, calcule e imprima a média \n",
        "de suas notas."
      ]
    },
    {
      "cell_type": "code",
      "metadata": {
        "id": "aSkZ-qkrITak",
        "outputId": "823e8d39-98f7-4fb1-8ef1-5884e5f277f1",
        "colab": {
          "base_uri": "https://localhost:8080/"
        }
      },
      "source": [
        "A=float(input(\"Digite a nota da 1ª prova ==>  \"))\n",
        "B=float(input(\"Digite a nota da 2ª prova ==>  \"))\n",
        "C=float(input(\"Digite a nota da 3ª prova ==>  \"))\n",
        "\n",
        "media=(A+B+C)/3\n",
        "print('A média do aluno é {0}'.format(media))"
      ],
      "execution_count": null,
      "outputs": [
        {
          "output_type": "stream",
          "text": [
            "Digite a nota da 1ª prova ==>  10\n",
            "Digite a nota da 2ª prova ==>  8\n",
            "Digite a nota da 3ª prova ==>  3\n",
            "A média do aluno é 7.0\n"
          ],
          "name": "stdout"
        }
      ]
    },
    {
      "cell_type": "markdown",
      "metadata": {
        "id": "vhhCxFV6JO_y"
      },
      "source": [
        "4. Escreva um programa que calcule e mostre a área de um trapézio. Sabe-se que: A = ((base maior + base menor)* altura)/2."
      ]
    },
    {
      "cell_type": "code",
      "metadata": {
        "id": "8PmsgmhLJVew",
        "outputId": "d5653b60-29e7-46d7-9fc5-a88f56a203b4",
        "colab": {
          "base_uri": "https://localhost:8080/"
        }
      },
      "source": [
        "print('Programa para calcular a área de um trapézio')\n",
        "A=float(input(\"Digite o comprimento da base maior ==>  \"))\n",
        "B=float(input(\"Digite o comprimento da base menor ==>  \"))\n",
        "C=float(input(\"Digite a altura ==>  \"))\n",
        "\n",
        "area=((A+B)*C)/2\n",
        "print('A área do trapézio é ===>  {0}'.format(area))                                                                                                                                                                    "
      ],
      "execution_count": null,
      "outputs": [
        {
          "output_type": "stream",
          "text": [
            "Programa para calcular a área de um trapézio\n",
            "Digite o comprimento da base maior ==>  23\n",
            "Digite o comprimento da base menor ==>  2\n",
            "Digite a altura ==>  2\n",
            "A área do trapézio é ===>  25.0\n"
          ],
          "name": "stdout"
        }
      ]
    },
    {
      "cell_type": "markdown",
      "metadata": {
        "id": "lARcLYD3Qryw"
      },
      "source": [
        "5. Escreva um algoritmo que leia uma temperatura na escala Celsius (C) e imprima o equivalente em Fahrenheit (F).\n",
        "Dados: (Fórmula de conversão: F = 9/5 * C + 32)"
      ]
    },
    {
      "cell_type": "code",
      "metadata": {
        "id": "UgzJAahxQv0w",
        "outputId": "5fce0a92-9cf0-49ac-beac-95488d17b3b9",
        "colab": {
          "base_uri": "https://localhost:8080/"
        }
      },
      "source": [
        "print('Programa para converter temperatura de ºC para F')\n",
        "TC=float(input(\"Digite a temperatura em ºC ==>  \"))\n",
        "TF=((9*TC)/5)+32\n",
        "print('A temperatura {0} ºC equivale a {1} F'.format(TC,TF))    "
      ],
      "execution_count": null,
      "outputs": [
        {
          "output_type": "stream",
          "text": [
            "Programa para converter temperatura de ºC para F\n",
            "Digite a temperatura em ºC ==>  0\n",
            "A temperatura 0.0 ºC equivale a 32.0 F\n"
          ],
          "name": "stdout"
        }
      ]
    },
    {
      "cell_type": "markdown",
      "metadata": {
        "id": "T8qsGnXqRrDY"
      },
      "source": [
        "6. Escreva um algoritmo para calcular o consumo médio de um automóvel (medido em Km/l), dado que são conhecidos a distância total percorrida e o volume de combustível consumido para percorrê-la (medido em litros). CM = DIST / VOL."
      ]
    },
    {
      "cell_type": "code",
      "metadata": {
        "id": "2IA9m2pnRyJR",
        "outputId": "0fa191af-658e-4051-e241-71ed0ca7e9a5",
        "colab": {
          "base_uri": "https://localhost:8080/"
        }
      },
      "source": [
        "print('Programa para calcular o consumo médio de um automóvel em km/l')\n",
        "km=float(input(\"Digite a distância percorrida ==>  \"))\n",
        "litro=int(input(\"Digite o volume de combustível consumido ==>  \"))\n",
        "consumo=km/litro\n",
        "print('O consumo médio do carro para {0} foi de {1} km/l'.format(km,consumo))    "
      ],
      "execution_count": null,
      "outputs": [
        {
          "output_type": "stream",
          "text": [
            "Programa para calcular o consumo médio de um automóvel em km/l\n",
            "Digite a distância percorrida ==>  200\n",
            "Digite o volume de combustível consumido ==>  10\n",
            "O consumo médio do carro para 200.0 foi de 20.0 km/l\n"
          ],
          "name": "stdout"
        }
      ]
    },
    {
      "cell_type": "markdown",
      "metadata": {
        "id": "79NcUFGwY0L1"
      },
      "source": [
        "7. O custo ao consumidor de um carro novo é a soma do custo de fábrica com a porcentagem do\n",
        "distribuidor e dos impostos, ambos aplicados ao custo de fábrica. Supondo que a porcentagem\n",
        "do distribuidor seja de 12% e a dos impostos de 45%, prepare um algoritmo para ler o custo de\n",
        "fábrica do carro e imprimir o valor pago a distribuidora, o valor dos impostos e o custo total ao\n",
        "consumidor."
      ]
    },
    {
      "cell_type": "code",
      "metadata": {
        "id": "JFj8B5TlYx9a",
        "outputId": "567eccd9-3388-4a8b-f7ce-cc9edffc7484",
        "colab": {
          "base_uri": "https://localhost:8080/"
        }
      },
      "source": [
        "print('Programa para calcular o preço do carro ao consumidor')\n",
        "custoF=float(input(\"Custo do carro novo na fábrica ==>  \"))\n",
        "dist=custoF*0.12\n",
        "imposto=custoF*0.45\n",
        "custoC=custoF+dist+imposto\n",
        "print('O custo do carro para o consumidor é R$ {0}'.format(custoC)) "
      ],
      "execution_count": null,
      "outputs": [
        {
          "output_type": "stream",
          "text": [
            "Programa para calcular o preço do carro ao consumidor\n",
            "Custo do carro novo na fábrica ==>  23000\n",
            "O custo do carro para o consumidor é R$ 36110.0\n"
          ],
          "name": "stdout"
        }
      ]
    }
  ]
}